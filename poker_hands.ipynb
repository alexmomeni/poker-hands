{
 "cells": [
  {
   "cell_type": "markdown",
   "metadata": {},
   "source": [
    "# Project notebook **<span style=\"COLOR:RED\">Poker hand predictions</span>**\n",
    "\n",
    "\n",
    "### Student 1 (first half presentation)\n",
    "Name : MOMENI Alexandre <br>\n",
    "Group: Intermediate\n",
    "### Student 2 (second half presentation)\n",
    "Name: NIELLY Cyprien <br>\n",
    "Group: Intermediate \n",
    "<br>\n",
    "### Data name: Poker Hand Data Set\n",
    "### Data URL: http://archive.ics.uci.edu/ml/datasets/Poker+Hand\n",
    "### Description :\n",
    "\n",
    "This dataset was created by Robert Cattral and Franz Oppacher in January 2007 with the purpose to predict poker hands. The UCI Machine Learning repository hosts the dataset and Kaggle is running a classficiation competition on its website. <br />\n",
    "\n",
    "The dataset description is summarised below: <br />\n",
    "\n",
    "1. Each record is an example of a hand consisting of five playing cards drawn from a standard deck of 52. <br />\n",
    "<br />\n",
    "2. Each card is described using two attributes (suit and rank), for a total of 10 predictive attributes.<br />\n",
    "<br />\n",
    "3. There is one Class attribute that describes the “Poker Hand”. <br />\n",
    "<br />\n",
    "4. Suits and ranks are represented as ordinal categories; Poker Hands are classified into ordinal categories. <br />\n",
    "<br />\n",
    "5. The order of cards is important, which is why there are 480 possible Royal Flush hands as compared to 4 (one for a each suit).<br />\n",
    "<br />\n",
    "6. Number of Instances: 25,010 training, 1,000,000 testing. <br />\n",
    "<br />\n",
    "7. Attribute Information:<br />\n",
    "\n",
    "   a) S1 “Suit of card #1”\n",
    "      Ordinal (1-4) representing {Hearts, Spades, Diamonds, Clubs}\n",
    "\n",
    "   b) C1 “Rank of card #1”\n",
    "      Numerical (1-13) representing (Ace, 2, 3, ... , Queen, King)\n",
    "\n",
    "   c) S2 “Suit of card #2”\n",
    "      Ordinal (1-4) representing {Hearts, Spades, Diamonds, Clubs}\n",
    "\n",
    "   d) C2 “Rank of card #2”\n",
    "      Numerical (1-13) representing (Ace, 2, 3, ... , Queen, King)\n",
    "\n",
    "   e) S3 “Suit of card #3”\n",
    "      Ordinal (1-4) representing {Hearts, Spades, Diamonds, Clubs}\n",
    "\n",
    "   f) C3 “Rank of card #3”\n",
    "      Numerical (1-13) representing (Ace, 2, 3, ... , Queen, King)\n",
    "\n",
    "   g) S4 “Suit of card #4”\n",
    "      Ordinal (1-4) representing {Hearts, Spades, Diamonds, Clubs}\n",
    "\n",
    "   h) C4 “Rank of card #4”\n",
    "      Numerical (1-13) representing (Ace, 2, 3, ... , Queen, King)\n",
    "\n",
    "   i) S5 “Suit of card #5”\n",
    "      Ordinal (1-4) representing {Hearts, Spades, Diamonds, Clubs}\n",
    "\n",
    "   j) C5 “Rank of card 5”\n",
    "      Numerical (1-13) representing (Ace, 2, 3, ... , Queen, King)\n",
    "\n",
    "   k) CLASS “Poker Hand”\n",
    "      Ordinal (0-9) <br />    \n",
    "      \n",
    "      0: Nothing in hand; not a recognized poker hand <br />\n",
    "      1: One pair; one pair of equal ranks within five cards<br />\n",
    "      2: Two pairs; two pairs of equal ranks within five cards<br />\n",
    "      3: Three of a kind; three equal ranks within five cards<br />\n",
    "      4: Straight; five cards, sequentially ranked with no gaps<br />\n",
    "      5: Flush; five cards with the same suit<br />\n",
    "      6: Full house; pair + different rank three of a kind<br />\n",
    "      7: Four of a kind; four equal ranks within five cards<br />\n",
    "      8: Straight flush; straight + flush<br />\n",
    "      9: Royal flush; {Ace, King, Queen, Jack, Ten} + flush<br />\n",
    "      <br />"
   ]
  },
  {
   "cell_type": "markdown",
   "metadata": {},
   "source": [
    "### Aims: \n",
    "The dataset has been found to be a challenging for classification algorithms. Our project focuses on understanding why this is the case and will make a first attempt to address these obstacles in a classical classifier. More specifically, we will follow the steps below: <br />\n",
    "     \n",
    "** <span style=\"color:darkblue\">1. Preliminary checks:</span> **  Are there any preprocessing requirements ? <br />\n",
    "<br />\n",
    "**<span style=\"color:darkblue\">2. Statistics: </span>**  Is the data set representative of probability theory? <br />\n",
    "<br />\n",
    "**<span style=\"color:darkblue\">3. Discovery of the rules of poker: </span>** Can an unsupervised learning algorithm achieve automatic rule induction? <br />\n",
    "<br />\n",
    "**<span style=\"color:darkblue\">4. Prediction of poker hands: </span>** Can the previous analysis help construct a good classifier which can learn the rules without hand coding heuristics ?<br />\n",
    "<br />\n",
    "**<span style=\"color:darkblue\">5. Discuss and examine the findings: </span>** What are the implications of our results?<br />\n",
    "<br />\n"
   ]
  },
  {
   "cell_type": "markdown",
   "metadata": {},
   "source": [
    "### Modules: \n",
    "We note that the purpose of the project is also to demonstrate our understanding of the Python course. Thus we have opted against using more advanced machine learning modules that include built-in algorithms. Whilst these may have been better suited to run the analysis, we have instead focused on implementing reproducible elementary code. With this in mind, we will comment the code to help the reader follow the various steps. <br />\n",
    "<br />\n",
    "We import and use the modules below throughout the project: "
   ]
  },
  {
   "cell_type": "code",
   "execution_count": 1,
   "metadata": {
    "collapsed": true
   },
   "outputs": [],
   "source": [
    "import math\n",
    "import time\n",
    "import urllib.request as ur\n",
    "import numpy as np\n",
    "import pandas as pd\n",
    "import matplotlib.pyplot as plt\n",
    "import random"
   ]
  },
  {
   "cell_type": "markdown",
   "metadata": {},
   "source": [
    "### Importing Data"
   ]
  },
  {
   "cell_type": "code",
   "execution_count": 2,
   "metadata": {},
   "outputs": [
    {
     "name": "stdout",
     "output_type": "stream",
     "text": [
      "Downloading data...\n",
      "Download complete.\n",
      "Datasets are loaded in Pandas DataFrame - start exploring!\n"
     ]
    }
   ],
   "source": [
    "######## donwload data ###########\n",
    "print('Downloading data...')\n",
    "\n",
    "#Store URLs\n",
    "url_training = \"http://archive.ics.uci.edu/ml/machine-learning-databases/poker/poker-hand-training-true.data\"\n",
    "url_testing = \"http://archive.ics.uci.edu/ml/machine-learning-databases/poker/poker-hand-testing.data\"\n",
    "\n",
    "#Retrieve data denoted by the URLs and save in csv format as local files in the current directory. \n",
    "\n",
    "#ur.urlretrieve(url_training,\"poker-hand-training.csv\") # to download and save file from web to current directory\n",
    "#ur.urlretrieve(url_testing,\"poker-hand-testing.csv\")# to download and save file from web to current directory\n",
    "\n",
    "print('Download complete.')\n",
    "\n",
    "########## Loading the data into Pandas ##########\n",
    "labels= ['S1', 'C1', 'S2', 'C2', 'S3', 'C3','S4', 'C4', 'S5', 'C5', 'CLASS']\n",
    "df_train = pd.read_csv(\"poker-hand-training.csv\", header=None,names=labels)\n",
    "df_test = pd.read_csv(\"poker-hand-testing.csv\", header=None, names=labels)\n",
    "\n",
    "print('Datasets are loaded in Pandas DataFrame - start exploring!')"
   ]
  },
  {
   "cell_type": "markdown",
   "metadata": {},
   "source": [
    "### 1. Preliminary checks\n",
    "In this first section, we will establish whether there are any corrupt or missing values in the datasets. This small step is important for good practise to ensure that the datasets are consistent with the description above.  "
   ]
  },
  {
   "cell_type": "code",
   "execution_count": 3,
   "metadata": {},
   "outputs": [
    {
     "name": "stdout",
     "output_type": "stream",
     "text": [
      "The number dimensions are consistent with the instance and attribute description\n",
      "Train set dimensions (1000000, 11)\n",
      "Test set dimensions (1000000, 11)\n"
     ]
    }
   ],
   "source": [
    "print('The number dimensions are consistent with the instance and attribute description')\n",
    "print('Train set dimensions',df_train.shape)\n",
    "print('Test set dimensions',df_test.shape)"
   ]
  },
  {
   "cell_type": "code",
   "execution_count": 4,
   "metadata": {},
   "outputs": [
    {
     "name": "stdout",
     "output_type": "stream",
     "text": [
      "The column names and their ordering are consistent with the attribute description\n",
      "Train set column labels: Index(['S1', 'C1', 'S2', 'C2', 'S3', 'C3', 'S4', 'C4', 'S5', 'C5', 'CLASS'], dtype='object')\n",
      "Test set column labels: Index(['S1', 'C1', 'S2', 'C2', 'S3', 'C3', 'S4', 'C4', 'S5', 'C5', 'CLASS'], dtype='object')\n"
     ]
    }
   ],
   "source": [
    "print('The column names and their ordering are consistent with the attribute description')\n",
    "print('Train set column labels:',df_train.columns)\n",
    "print('Test set column labels:',df_test.columns)"
   ]
  },
  {
   "cell_type": "code",
   "execution_count": 5,
   "metadata": {},
   "outputs": [
    {
     "name": "stdout",
     "output_type": "stream",
     "text": [
      "The dtypes (integers) are consistent with the value description. We note there are no missing values (non-null) \n",
      "<class 'pandas.core.frame.DataFrame'>\n",
      "RangeIndex: 1000000 entries, 0 to 999999\n",
      "Data columns (total 11 columns):\n",
      "S1       1000000 non-null int64\n",
      "C1       1000000 non-null int64\n",
      "S2       1000000 non-null int64\n",
      "C2       1000000 non-null int64\n",
      "S3       1000000 non-null int64\n",
      "C3       1000000 non-null int64\n",
      "S4       1000000 non-null int64\n",
      "C4       1000000 non-null int64\n",
      "S5       1000000 non-null int64\n",
      "C5       1000000 non-null int64\n",
      "CLASS    1000000 non-null int64\n",
      "dtypes: int64(11)\n",
      "memory usage: 83.9 MB\n",
      "<class 'pandas.core.frame.DataFrame'>\n",
      "RangeIndex: 1000000 entries, 0 to 999999\n",
      "Data columns (total 11 columns):\n",
      "S1       1000000 non-null int64\n",
      "C1       1000000 non-null int64\n",
      "S2       1000000 non-null int64\n",
      "C2       1000000 non-null int64\n",
      "S3       1000000 non-null int64\n",
      "C3       1000000 non-null int64\n",
      "S4       1000000 non-null int64\n",
      "C4       1000000 non-null int64\n",
      "S5       1000000 non-null int64\n",
      "C5       1000000 non-null int64\n",
      "CLASS    1000000 non-null int64\n",
      "dtypes: int64(11)\n",
      "memory usage: 83.9 MB\n"
     ]
    }
   ],
   "source": [
    "print('The dtypes (integers) are consistent with the value description. We note there are no missing values (non-null) ')\n",
    "df_train.info()\n",
    "df_test.info()"
   ]
  },
  {
   "cell_type": "code",
   "execution_count": 6,
   "metadata": {},
   "outputs": [
    {
     "name": "stdout",
     "output_type": "stream",
     "text": [
      "The unique values of the dataframes are consistent with the description\n"
     ]
    }
   ],
   "source": [
    "print('The unique values of the dataframes are consistent with the description')"
   ]
  },
  {
   "cell_type": "code",
   "execution_count": 7,
   "metadata": {},
   "outputs": [
    {
     "name": "stdout",
     "output_type": "stream",
     "text": [
      "Train set unique values for attribute S1 are: [1, 2, 3, 4]\n",
      "Train set unique values for attribute C1 are: [1, 2, 3, 4, 5, 6, 7, 8, 9, 10, 11, 12, 13]\n",
      "Train set unique values for attribute S2 are: [1, 2, 3, 4]\n",
      "Train set unique values for attribute C2 are: [1, 2, 3, 4, 5, 6, 7, 8, 9, 10, 11, 12, 13]\n",
      "Train set unique values for attribute S3 are: [1, 2, 3, 4]\n",
      "Train set unique values for attribute C3 are: [1, 2, 3, 4, 5, 6, 7, 8, 9, 10, 11, 12, 13]\n",
      "Train set unique values for attribute S4 are: [1, 2, 3, 4]\n",
      "Train set unique values for attribute C4 are: [1, 2, 3, 4, 5, 6, 7, 8, 9, 10, 11, 12, 13]\n",
      "Train set unique values for attribute S5 are: [1, 2, 3, 4]\n",
      "Train set unique values for attribute C5 are: [1, 2, 3, 4, 5, 6, 7, 8, 9, 10, 11, 12, 13]\n",
      "Train set unique values for attribute CLASS are: [0, 1, 2, 3, 4, 5, 6, 7, 8, 9]\n"
     ]
    }
   ],
   "source": [
    "for i in range (11):\n",
    "    print('Train set unique values for attribute',labels[i],'are:',sorted(df_train[labels[i]].unique()))"
   ]
  },
  {
   "cell_type": "code",
   "execution_count": 8,
   "metadata": {},
   "outputs": [
    {
     "name": "stdout",
     "output_type": "stream",
     "text": [
      "Test set unique values for attribute S1 are: [1, 2, 3, 4]\n",
      "Test set unique values for attribute C1 are: [1, 2, 3, 4, 5, 6, 7, 8, 9, 10, 11, 12, 13]\n",
      "Test set unique values for attribute S2 are: [1, 2, 3, 4]\n",
      "Test set unique values for attribute C2 are: [1, 2, 3, 4, 5, 6, 7, 8, 9, 10, 11, 12, 13]\n",
      "Test set unique values for attribute S3 are: [1, 2, 3, 4]\n",
      "Test set unique values for attribute C3 are: [1, 2, 3, 4, 5, 6, 7, 8, 9, 10, 11, 12, 13]\n",
      "Test set unique values for attribute S4 are: [1, 2, 3, 4]\n",
      "Test set unique values for attribute C4 are: [1, 2, 3, 4, 5, 6, 7, 8, 9, 10, 11, 12, 13]\n",
      "Test set unique values for attribute S5 are: [1, 2, 3, 4]\n",
      "Test set unique values for attribute C5 are: [1, 2, 3, 4, 5, 6, 7, 8, 9, 10, 11, 12, 13]\n",
      "Test set unique values for attribute CLASS are: [0, 1, 2, 3, 4, 5, 6, 7, 8, 9]\n"
     ]
    }
   ],
   "source": [
    "for i in range (11):\n",
    "    print('Test set unique values for attribute',labels[i],'are:',sorted(df_test[labels[i]].unique()))"
   ]
  },
  {
   "cell_type": "markdown",
   "metadata": {},
   "source": [
    "**<span style=\"color:darkblue\">Conclusion: </span>** We conclude the preliminary checks above confirm that the datasets provided are consistent with the description and do not require pre-processing. <br />\n",
    "<br />\n",
    "Before moving onto the next section, the reader will find the first few rows of each dataframes below.    "
   ]
  },
  {
   "cell_type": "code",
   "execution_count": 9,
   "metadata": {},
   "outputs": [
    {
     "name": "stdout",
     "output_type": "stream",
     "text": [
      "Train Data\n"
     ]
    },
    {
     "data": {
      "text/html": [
       "<div>\n",
       "<style>\n",
       "    .dataframe thead tr:only-child th {\n",
       "        text-align: right;\n",
       "    }\n",
       "\n",
       "    .dataframe thead th {\n",
       "        text-align: left;\n",
       "    }\n",
       "\n",
       "    .dataframe tbody tr th {\n",
       "        vertical-align: top;\n",
       "    }\n",
       "</style>\n",
       "<table border=\"1\" class=\"dataframe\">\n",
       "  <thead>\n",
       "    <tr style=\"text-align: right;\">\n",
       "      <th></th>\n",
       "      <th>S1</th>\n",
       "      <th>C1</th>\n",
       "      <th>S2</th>\n",
       "      <th>C2</th>\n",
       "      <th>S3</th>\n",
       "      <th>C3</th>\n",
       "      <th>S4</th>\n",
       "      <th>C4</th>\n",
       "      <th>S5</th>\n",
       "      <th>C5</th>\n",
       "      <th>CLASS</th>\n",
       "    </tr>\n",
       "  </thead>\n",
       "  <tbody>\n",
       "    <tr>\n",
       "      <th>0</th>\n",
       "      <td>1</td>\n",
       "      <td>1</td>\n",
       "      <td>1</td>\n",
       "      <td>13</td>\n",
       "      <td>2</td>\n",
       "      <td>4</td>\n",
       "      <td>2</td>\n",
       "      <td>3</td>\n",
       "      <td>1</td>\n",
       "      <td>12</td>\n",
       "      <td>0</td>\n",
       "    </tr>\n",
       "    <tr>\n",
       "      <th>1</th>\n",
       "      <td>3</td>\n",
       "      <td>12</td>\n",
       "      <td>3</td>\n",
       "      <td>2</td>\n",
       "      <td>3</td>\n",
       "      <td>11</td>\n",
       "      <td>4</td>\n",
       "      <td>5</td>\n",
       "      <td>2</td>\n",
       "      <td>5</td>\n",
       "      <td>1</td>\n",
       "    </tr>\n",
       "    <tr>\n",
       "      <th>2</th>\n",
       "      <td>1</td>\n",
       "      <td>9</td>\n",
       "      <td>4</td>\n",
       "      <td>6</td>\n",
       "      <td>1</td>\n",
       "      <td>4</td>\n",
       "      <td>3</td>\n",
       "      <td>2</td>\n",
       "      <td>3</td>\n",
       "      <td>9</td>\n",
       "      <td>1</td>\n",
       "    </tr>\n",
       "    <tr>\n",
       "      <th>3</th>\n",
       "      <td>1</td>\n",
       "      <td>4</td>\n",
       "      <td>3</td>\n",
       "      <td>13</td>\n",
       "      <td>2</td>\n",
       "      <td>13</td>\n",
       "      <td>2</td>\n",
       "      <td>1</td>\n",
       "      <td>3</td>\n",
       "      <td>6</td>\n",
       "      <td>1</td>\n",
       "    </tr>\n",
       "    <tr>\n",
       "      <th>4</th>\n",
       "      <td>3</td>\n",
       "      <td>10</td>\n",
       "      <td>2</td>\n",
       "      <td>7</td>\n",
       "      <td>1</td>\n",
       "      <td>2</td>\n",
       "      <td>2</td>\n",
       "      <td>11</td>\n",
       "      <td>4</td>\n",
       "      <td>9</td>\n",
       "      <td>0</td>\n",
       "    </tr>\n",
       "  </tbody>\n",
       "</table>\n",
       "</div>"
      ],
      "text/plain": [
       "   S1  C1  S2  C2  S3  C3  S4  C4  S5  C5  CLASS\n",
       "0   1   1   1  13   2   4   2   3   1  12      0\n",
       "1   3  12   3   2   3  11   4   5   2   5      1\n",
       "2   1   9   4   6   1   4   3   2   3   9      1\n",
       "3   1   4   3  13   2  13   2   1   3   6      1\n",
       "4   3  10   2   7   1   2   2  11   4   9      0"
      ]
     },
     "execution_count": 9,
     "metadata": {},
     "output_type": "execute_result"
    }
   ],
   "source": [
    "print('Train Data')\n",
    "df_train.head()"
   ]
  },
  {
   "cell_type": "code",
   "execution_count": 10,
   "metadata": {},
   "outputs": [
    {
     "name": "stdout",
     "output_type": "stream",
     "text": [
      "Test Data\n"
     ]
    },
    {
     "data": {
      "text/html": [
       "<div>\n",
       "<style>\n",
       "    .dataframe thead tr:only-child th {\n",
       "        text-align: right;\n",
       "    }\n",
       "\n",
       "    .dataframe thead th {\n",
       "        text-align: left;\n",
       "    }\n",
       "\n",
       "    .dataframe tbody tr th {\n",
       "        vertical-align: top;\n",
       "    }\n",
       "</style>\n",
       "<table border=\"1\" class=\"dataframe\">\n",
       "  <thead>\n",
       "    <tr style=\"text-align: right;\">\n",
       "      <th></th>\n",
       "      <th>S1</th>\n",
       "      <th>C1</th>\n",
       "      <th>S2</th>\n",
       "      <th>C2</th>\n",
       "      <th>S3</th>\n",
       "      <th>C3</th>\n",
       "      <th>S4</th>\n",
       "      <th>C4</th>\n",
       "      <th>S5</th>\n",
       "      <th>C5</th>\n",
       "      <th>CLASS</th>\n",
       "    </tr>\n",
       "  </thead>\n",
       "  <tbody>\n",
       "    <tr>\n",
       "      <th>0</th>\n",
       "      <td>1</td>\n",
       "      <td>1</td>\n",
       "      <td>1</td>\n",
       "      <td>13</td>\n",
       "      <td>2</td>\n",
       "      <td>4</td>\n",
       "      <td>2</td>\n",
       "      <td>3</td>\n",
       "      <td>1</td>\n",
       "      <td>12</td>\n",
       "      <td>0</td>\n",
       "    </tr>\n",
       "    <tr>\n",
       "      <th>1</th>\n",
       "      <td>3</td>\n",
       "      <td>12</td>\n",
       "      <td>3</td>\n",
       "      <td>2</td>\n",
       "      <td>3</td>\n",
       "      <td>11</td>\n",
       "      <td>4</td>\n",
       "      <td>5</td>\n",
       "      <td>2</td>\n",
       "      <td>5</td>\n",
       "      <td>1</td>\n",
       "    </tr>\n",
       "    <tr>\n",
       "      <th>2</th>\n",
       "      <td>1</td>\n",
       "      <td>9</td>\n",
       "      <td>4</td>\n",
       "      <td>6</td>\n",
       "      <td>1</td>\n",
       "      <td>4</td>\n",
       "      <td>3</td>\n",
       "      <td>2</td>\n",
       "      <td>3</td>\n",
       "      <td>9</td>\n",
       "      <td>1</td>\n",
       "    </tr>\n",
       "    <tr>\n",
       "      <th>3</th>\n",
       "      <td>1</td>\n",
       "      <td>4</td>\n",
       "      <td>3</td>\n",
       "      <td>13</td>\n",
       "      <td>2</td>\n",
       "      <td>13</td>\n",
       "      <td>2</td>\n",
       "      <td>1</td>\n",
       "      <td>3</td>\n",
       "      <td>6</td>\n",
       "      <td>1</td>\n",
       "    </tr>\n",
       "    <tr>\n",
       "      <th>4</th>\n",
       "      <td>3</td>\n",
       "      <td>10</td>\n",
       "      <td>2</td>\n",
       "      <td>7</td>\n",
       "      <td>1</td>\n",
       "      <td>2</td>\n",
       "      <td>2</td>\n",
       "      <td>11</td>\n",
       "      <td>4</td>\n",
       "      <td>9</td>\n",
       "      <td>0</td>\n",
       "    </tr>\n",
       "  </tbody>\n",
       "</table>\n",
       "</div>"
      ],
      "text/plain": [
       "   S1  C1  S2  C2  S3  C3  S4  C4  S5  C5  CLASS\n",
       "0   1   1   1  13   2   4   2   3   1  12      0\n",
       "1   3  12   3   2   3  11   4   5   2   5      1\n",
       "2   1   9   4   6   1   4   3   2   3   9      1\n",
       "3   1   4   3  13   2  13   2   1   3   6      1\n",
       "4   3  10   2   7   1   2   2  11   4   9      0"
      ]
     },
     "execution_count": 10,
     "metadata": {},
     "output_type": "execute_result"
    }
   ],
   "source": [
    "print('Test Data')\n",
    "df_test.head()"
   ]
  },
  {
   "cell_type": "markdown",
   "metadata": {},
   "source": [
    "### 2. Statistics\n",
    "In this second section, we use theory to obtain the combinations, permutations and probabilities of the different CLASS outcomes. The objective here is not to gain insight into the ranking of poker hands but to examine whether the CLASS Distribution within each dataset is representative of the true domain. Remember: The order of cards is important."
   ]
  },
  {
   "cell_type": "code",
   "execution_count": 11,
   "metadata": {
    "collapsed": true
   },
   "outputs": [],
   "source": [
    "#First, we compute the class distributions in the two datasets\n",
    "#This means that for each class, we compute the ratio r_i = (num of instances of class i) / (total number of instances)\n",
    "\n",
    "train_class_distribution = df_train.iloc[:,10].value_counts(normalize=True, sort=False)\n",
    "test_class_distribution = df_test.iloc[:,10].value_counts(normalize=True, sort=False)"
   ]
  },
  {
   "cell_type": "code",
   "execution_count": 12,
   "metadata": {
    "collapsed": true
   },
   "outputs": [],
   "source": [
    "#We define the function nCr, also known as the Binomial coefficient (http://mathworld.wolfram.com/BinomialCoefficient.html)\n",
    "\n",
    "def nCr(n,r):\n",
    "    assert (type(n) == int),\"n is not an integer\"\n",
    "    assert (type(r) == int),\"n is not an integer\"\n",
    "    assert ( n > 1), \"n is not greater than 1\" \n",
    "    assert ( r > 0), \"r is not greater than 0\" \n",
    "    assert ( n >= r), \"r is greater than n\" \n",
    "    \n",
    "    f = math.factorial\n",
    "    return f(n) / (f(r)*f(n-r))"
   ]
  },
  {
   "cell_type": "code",
   "execution_count": 13,
   "metadata": {
    "collapsed": true
   },
   "outputs": [],
   "source": [
    "#First we we compute the number of hands. The reader is invited to check these himself. \n",
    "\n",
    "royal_flush = 4 \n",
    "#This consists of the ten, jack, queen, king, and ace of one suit. There are four such hands.\n",
    "\n",
    "straight_flush = 10 * 4 - 4\n",
    "#10 ways of having a 5 card sequence, with only one pattern of suit allowed (4 combinations). \n",
    "# We exlude royal flushes\n",
    "\n",
    "one_pair = nCr(13,1) * nCr(4,2) * nCr(12,3) * (4**3)\n",
    "#We have to choose 1 distinct kind (13-choose-1) in any 2 patterns (4-choose-2)\n",
    "#From the remaining 12 distinct kinds, we chose 3 distinct kinds (12-choose-3), with any pattern of suits (4^3 combinations)\n",
    "\n",
    "two_pair = nCr(13,2) * nCr(4,2) * nCr(4,2) * nCr(11,1) * 4 \n",
    "#We have to choose 2 distinc kinds (13-choose-2) in any 2 patterns (13-choose-2)(4-choose-2)(4-choose-2)\n",
    "#From the remaining 11 distinct kinds, we choose .1 distinct kinds with any pattern (11-choose-1)(4-choose-1)\n",
    "\n",
    "three_of_a_kind =  nCr(13,1) * nCr(4,3) * nCr(12,2) * (4**2)\n",
    "#We have to choose 1 distinct kind (13-choose-1) in any 3 patterns (4-choose-3)\n",
    "#From the remaining 12 distinct kinds, we chose 2 distinct kinds (12-choose-2), with any pattern of suits (4^2)\n",
    "\n",
    "straight = 10 * (4**5) - 36 - 4 \n",
    "#10 ways of having a 5 card sequence, with any pattern of suits (4^5)\n",
    "#We exclude flush straights\n",
    "#We exclude royal flush \n",
    "\n",
    "nothing = (nCr(13,5) - 10) * (4**5 - 4)\n",
    "#We have to choose 5 distinct kinds (13-choose-5) but exclude any straights (subtract 10). \n",
    "#We can have any pattern of suits except the 4 patterns where all 5 cards have the same suit: 4^5-4. \n",
    "\n",
    "flush = nCr(13,5)* 4 - 4*10\n",
    "#We have to choose 5 distinct kinds (13-choose-5) from the same pattern(4)\n",
    "#We exclude straight flushes \n",
    "\n",
    "full_house = nCr(13,1) * nCr(4,3) * nCr(12,1) * nCr(4,2)\n",
    "#We have to choose 1 distinct kind (13-choose-1) in any 3 patterns (4-choose-3)\n",
    "#From the remaining 12 distinct kinds, we chose 1 distinct kind (12-choose-2), in any 2 patterns suits (4-choose-2)\n",
    "\n",
    "four_of_a_kind = nCr(13,1) * nCr(12,1) * 4\n",
    "#We have to choose 1 distinct kind (13-choose-1) in all 4 patterns (4-choose-4)\n",
    "#From the remaining 12 distinct kinds, we chose 1 distinct kinds (12-choose-1), with any pattern of suits (4)\n",
    "\n",
    "total = nCr(52,5)\n",
    "#From a deck of 52 cards, there are 52-choose-5 ways of choosing 5 cards. "
   ]
  },
  {
   "cell_type": "code",
   "execution_count": 14,
   "metadata": {
    "collapsed": true
   },
   "outputs": [],
   "source": [
    "#The order of cards is important! We compute the number of combinations for each of these hands.\n",
    "\n",
    "combination_factor = 5*4*3*2*1\n",
    "#5 ways of drawing the first card, 4 ways of drawing the second, etc... "
   ]
  },
  {
   "cell_type": "code",
   "execution_count": 15,
   "metadata": {},
   "outputs": [
    {
     "data": {
      "text/html": [
       "<div>\n",
       "<style>\n",
       "    .dataframe thead tr:only-child th {\n",
       "        text-align: right;\n",
       "    }\n",
       "\n",
       "    .dataframe thead th {\n",
       "        text-align: left;\n",
       "    }\n",
       "\n",
       "    .dataframe tbody tr th {\n",
       "        vertical-align: top;\n",
       "    }\n",
       "</style>\n",
       "<table border=\"1\" class=\"dataframe\">\n",
       "  <thead>\n",
       "    <tr style=\"text-align: right;\">\n",
       "      <th></th>\n",
       "      <th>Poker Hand</th>\n",
       "      <th>Class Distribution (train)</th>\n",
       "      <th>Class Distribution (test)</th>\n",
       "      <th>probability</th>\n",
       "    </tr>\n",
       "  </thead>\n",
       "  <tbody>\n",
       "    <tr>\n",
       "      <th>0</th>\n",
       "      <td>Nothing</td>\n",
       "      <td>0.501209</td>\n",
       "      <td>0.501209</td>\n",
       "      <td>0.501177</td>\n",
       "    </tr>\n",
       "    <tr>\n",
       "      <th>1</th>\n",
       "      <td>One pair</td>\n",
       "      <td>0.422498</td>\n",
       "      <td>0.422498</td>\n",
       "      <td>0.422569</td>\n",
       "    </tr>\n",
       "    <tr>\n",
       "      <th>2</th>\n",
       "      <td>Two pairs</td>\n",
       "      <td>0.047622</td>\n",
       "      <td>0.047622</td>\n",
       "      <td>0.047539</td>\n",
       "    </tr>\n",
       "    <tr>\n",
       "      <th>3</th>\n",
       "      <td>Three of a kind</td>\n",
       "      <td>0.021121</td>\n",
       "      <td>0.021121</td>\n",
       "      <td>0.021128</td>\n",
       "    </tr>\n",
       "    <tr>\n",
       "      <th>4</th>\n",
       "      <td>Straight</td>\n",
       "      <td>0.003885</td>\n",
       "      <td>0.003885</td>\n",
       "      <td>0.003925</td>\n",
       "    </tr>\n",
       "    <tr>\n",
       "      <th>5</th>\n",
       "      <td>Flush</td>\n",
       "      <td>0.001996</td>\n",
       "      <td>0.001996</td>\n",
       "      <td>0.001965</td>\n",
       "    </tr>\n",
       "    <tr>\n",
       "      <th>6</th>\n",
       "      <td>Full house</td>\n",
       "      <td>0.001424</td>\n",
       "      <td>0.001424</td>\n",
       "      <td>0.001441</td>\n",
       "    </tr>\n",
       "    <tr>\n",
       "      <th>7</th>\n",
       "      <td>Four of a kind</td>\n",
       "      <td>0.000230</td>\n",
       "      <td>0.000230</td>\n",
       "      <td>0.000240</td>\n",
       "    </tr>\n",
       "    <tr>\n",
       "      <th>8</th>\n",
       "      <td>Straight flush</td>\n",
       "      <td>0.000012</td>\n",
       "      <td>0.000012</td>\n",
       "      <td>0.000014</td>\n",
       "    </tr>\n",
       "    <tr>\n",
       "      <th>9</th>\n",
       "      <td>Royal flush</td>\n",
       "      <td>0.000003</td>\n",
       "      <td>0.000003</td>\n",
       "      <td>0.000002</td>\n",
       "    </tr>\n",
       "  </tbody>\n",
       "</table>\n",
       "</div>"
      ],
      "text/plain": [
       "        Poker Hand  Class Distribution (train)  Class Distribution (test)  \\\n",
       "0          Nothing                    0.501209                   0.501209   \n",
       "1         One pair                    0.422498                   0.422498   \n",
       "2        Two pairs                    0.047622                   0.047622   \n",
       "3  Three of a kind                    0.021121                   0.021121   \n",
       "4         Straight                    0.003885                   0.003885   \n",
       "5            Flush                    0.001996                   0.001996   \n",
       "6       Full house                    0.001424                   0.001424   \n",
       "7   Four of a kind                    0.000230                   0.000230   \n",
       "8   Straight flush                    0.000012                   0.000012   \n",
       "9      Royal flush                    0.000003                   0.000003   \n",
       "\n",
       "   probability  \n",
       "0     0.501177  \n",
       "1     0.422569  \n",
       "2     0.047539  \n",
       "3     0.021128  \n",
       "4     0.003925  \n",
       "5     0.001965  \n",
       "6     0.001441  \n",
       "7     0.000240  \n",
       "8     0.000014  \n",
       "9     0.000002  "
      ]
     },
     "execution_count": 15,
     "metadata": {},
     "output_type": "execute_result"
    }
   ],
   "source": [
    "#We create a Pandas DataFrame to summarise our theoretical findings \n",
    "\n",
    "hands_counts = [nothing,one_pair,two_pair,three_of_a_kind,straight,\n",
    "                flush,full_house,four_of_a_kind,straight_flush,royal_flush]\n",
    "\n",
    "hands_names = [\"Nothing\", \"One pair\", \"Two pairs\", \"Three of a kind\", \"Straight\", \n",
    "               \"Flush\", \"Full house\", \"Four of a kind\", \"Straight flush\", \"Royal flush\"]\n",
    "\n",
    "statistics_dict = {'Poker Hand' : hands_names, 'Class Distribution (train)': train_class_distribution,\n",
    "                   'Class Distribution (test)': test_class_distribution, '# of theoretical hands': hands_counts}\n",
    "\n",
    "statistics_df = pd.DataFrame(statistics_dict,columns=statistics_dict.keys())\n",
    "statistics_df.set_index('Poker Hand')\n",
    "\n",
    "statistics_df['# of combinations'] = statistics_df.iloc[:,3] * combination_factor \n",
    "statistics_df ['probability'] = statistics_df.iloc[:,3]/ total\n",
    "\n",
    "assert(statistics_df.probability.sum()==1),\"The sum of probabilities is not equal to 1\"\n",
    "\n",
    "probability_df = statistics_df.copy()\n",
    "probability_df = probability_df.drop('# of combinations',axis=1)\n",
    "probability_df = probability_df.drop('# of theoretical hands',axis=1)\n",
    "\n",
    "probability_df\n"
   ]
  },
  {
   "cell_type": "code",
   "execution_count": 16,
   "metadata": {},
   "outputs": [
    {
     "data": {
      "text/html": [
       "<div>\n",
       "<style>\n",
       "    .dataframe thead tr:only-child th {\n",
       "        text-align: right;\n",
       "    }\n",
       "\n",
       "    .dataframe thead th {\n",
       "        text-align: left;\n",
       "    }\n",
       "\n",
       "    .dataframe tbody tr th {\n",
       "        vertical-align: top;\n",
       "    }\n",
       "</style>\n",
       "<table border=\"1\" class=\"dataframe\">\n",
       "  <thead>\n",
       "    <tr style=\"text-align: right;\">\n",
       "      <th></th>\n",
       "      <th>Poker Hand</th>\n",
       "      <th>Train / Theory Ratio</th>\n",
       "      <th>Test / Theory Ratio</th>\n",
       "    </tr>\n",
       "  </thead>\n",
       "  <tbody>\n",
       "    <tr>\n",
       "      <th>0</th>\n",
       "      <td>Nothing</td>\n",
       "      <td>1.000063</td>\n",
       "      <td>1.000063</td>\n",
       "    </tr>\n",
       "    <tr>\n",
       "      <th>1</th>\n",
       "      <td>One pair</td>\n",
       "      <td>0.999832</td>\n",
       "      <td>0.999832</td>\n",
       "    </tr>\n",
       "    <tr>\n",
       "      <th>2</th>\n",
       "      <td>Two pairs</td>\n",
       "      <td>1.001746</td>\n",
       "      <td>1.001746</td>\n",
       "    </tr>\n",
       "    <tr>\n",
       "      <th>3</th>\n",
       "      <td>Three of a kind</td>\n",
       "      <td>0.999647</td>\n",
       "      <td>0.999647</td>\n",
       "    </tr>\n",
       "    <tr>\n",
       "      <th>4</th>\n",
       "      <td>Straight</td>\n",
       "      <td>0.989898</td>\n",
       "      <td>0.989898</td>\n",
       "    </tr>\n",
       "    <tr>\n",
       "      <th>5</th>\n",
       "      <td>Flush</td>\n",
       "      <td>1.015569</td>\n",
       "      <td>1.015569</td>\n",
       "    </tr>\n",
       "    <tr>\n",
       "      <th>6</th>\n",
       "      <td>Full house</td>\n",
       "      <td>0.988493</td>\n",
       "      <td>0.988493</td>\n",
       "    </tr>\n",
       "    <tr>\n",
       "      <th>7</th>\n",
       "      <td>Four of a kind</td>\n",
       "      <td>0.957950</td>\n",
       "      <td>0.957950</td>\n",
       "    </tr>\n",
       "    <tr>\n",
       "      <th>8</th>\n",
       "      <td>Straight flush</td>\n",
       "      <td>0.866320</td>\n",
       "      <td>0.866320</td>\n",
       "    </tr>\n",
       "    <tr>\n",
       "      <th>9</th>\n",
       "      <td>Royal flush</td>\n",
       "      <td>1.949220</td>\n",
       "      <td>1.949220</td>\n",
       "    </tr>\n",
       "  </tbody>\n",
       "</table>\n",
       "</div>"
      ],
      "text/plain": [
       "        Poker Hand  Train / Theory Ratio  Test / Theory Ratio\n",
       "0          Nothing              1.000063             1.000063\n",
       "1         One pair              0.999832             0.999832\n",
       "2        Two pairs              1.001746             1.001746\n",
       "3  Three of a kind              0.999647             0.999647\n",
       "4         Straight              0.989898             0.989898\n",
       "5            Flush              1.015569             1.015569\n",
       "6       Full house              0.988493             0.988493\n",
       "7   Four of a kind              0.957950             0.957950\n",
       "8   Straight flush              0.866320             0.866320\n",
       "9      Royal flush              1.949220             1.949220"
      ]
     },
     "execution_count": 16,
     "metadata": {},
     "output_type": "execute_result"
    }
   ],
   "source": [
    "#We now compare the Class Distribution of the datasets to the theoretical value \n",
    "\n",
    "statistics_df['Train / Theory Ratio'] = statistics_df.iloc[:,1] / statistics_df.iloc[:,5]\n",
    "statistics_df['Test / Theory Ratio'] = statistics_df.iloc[:,2] / statistics_df.iloc[:,5]\n",
    "\n",
    "probability_ratios = statistics_df.iloc[:,[0,6,7]]\n",
    "probability_ratios"
   ]
  },
  {
   "cell_type": "code",
   "execution_count": 17,
   "metadata": {},
   "outputs": [
    {
     "data": {
      "image/png": "[encoded data removed]",
      "text/plain": [
       "<matplotlib.figure.Figure at 0x10d8e8320>"
      ]
     },
     "metadata": {},
     "output_type": "display_data"
    },
    {
     "data": {
      "image/png": "[encoded data removed]",
      "text/plain": [
       "<matplotlib.figure.Figure at 0x10d911cf8>"
      ]
     },
     "metadata": {},
     "output_type": "display_data"
    }
   ],
   "source": [
    "#Probability vs. Class Distribution Plot\n",
    "statistics_df.iloc[:,[0,1,2,5]].plot.bar(x='Poker Hand')\n",
    "plt.xlabel('Poker Hand')\n",
    "plt.ylabel('Probability / Class Distribution')\n",
    "plt.yscale('log')\n",
    "plt.title('Class Distributions vs. Theoretical Probability for different Poker Hands')\n",
    "plt.show()\n",
    "\n",
    "#Ratio Class Distribution / Probability Plot\n",
    "probability_ratios.plot.bar(x='Poker Hand')\n",
    "plt.xlabel('Poker Hand')\n",
    "plt.ylabel('Class Distribution / Theoretical Probability')\n",
    "plt.yscale('log')\n",
    "plt.title('Class Distribution / Theoretical Probability Ratio for different Poker Hands')\n",
    "plt.show()"
   ]
  },
  {
   "cell_type": "markdown",
   "metadata": {},
   "source": [
    "The value in the ratio indicates the representation within the relevant set as compared to the entire domain. 1.0 would be perfect representation, while <1.0 are under-represented and >1.0 are over-represented. We notice that in the training dataset, the Straight flush and royal flush hands are not as representative of the true domain because they have been over-sampled: <br />\n",
    "1. The Straight flush is 14.43 times more likely. \n",
    "2. The Royal flush is 129.82 times more likely.<br />\n",
    " "
   ]
  },
  {
   "cell_type": "markdown",
   "metadata": {},
   "source": [
    "**<span style=\"color:darkblue\">Conclusion: </span>**Whilst the observations and analysis above might raise suspicion about the data, this can be explained by the class imbalance problem that exists in machine learning. Indeed, when the total number of observations for certains classes in data (often the most important classes e.g. rare diseases, fraud detection) is far smaller than the total number of other classes in the data, standard classification algorithms tend to be overwhelmed by the majority classes and ignore the minority classes. This is due to the fact that straditional classifiers seek an accurate performance over a full range of instances. Thus, oversampling  aims to re-balance class distributions. More details on the class imbalance problem can be found the following paper discussing the popular SMOTE method for oversampling (https://www.jair.org/media/953/live-953-2037-jair.pdf). <br />\n",
    "<br />\n",
    "As we move onto the next section, the reader should be sure to reflect on the results of this analysis and its implications for the remainder of the project."
   ]
  },
  {
   "cell_type": "markdown",
   "metadata": {},
   "source": [
    "### 3. Discovery of the rules of poker\n",
    "\n",
    "In the previous two sections, we determined that our datasets were clean and sampled to deal with the class imbalance problem. In this third section, we ask the reader to pretend they are in a foreign land and that they have never played poker before. We are given a history of thousands of games and are asked to come up with the rules. For clarity, this implies that this section will focus solely on the first ten columns of training set. <br />\n",
    "<br />\n",
    "This calls for an unsupervised learning technique - in particular, since we are dealing with mixed data, we will focus on building partitions via variants of k-means clustering for mixed data (details will be given on the algorithm below).<br />\n",
    "<br /> "
   ]
  },
  {
   "cell_type": "markdown",
   "metadata": {},
   "source": [
    "**<span style=\"color:darkblue\">Distance Definition: </span>** The first challenge of this section lies in defining a sensible distance between two hands. We must reflect both the binary nature of the suits and the rank of the card.<br />\n",
    "<br />\n",
    "We choose the Gower Distance (http://venus.unive.it/romanaz/modstat_ba/gowdis.pdf). <br />\n",
    "<br />\n",
    "Speficially, for the records $i$ and $j$ and a dataset consisting of $p$ dimensions, the Gower distance is defined as follows: <br />\n",
    "<br />\n",
    "$d_{ij} = \\sum_{k=1}^{p} w_k \\ d_{ij}^{ \\ (k) \\ }$ <br />\n",
    "\n",
    "In the above formula, the contributions to the Gower distance of each individual dimension $k$ is entailed in the distance $d^{\\ (k) \\ }$ that can be defined in a proper way for each $k$.  The $w_{k}$ represent a suitable set of weights that can be used to average single-axis distances <br />\n",
    "\n",
    "For the poker hand instances, we have: <br />\n",
    "\n",
    "For numerical variables (ranks): $d_{ij} = \\frac{\\left| \\ x_{i}^{ \\ (k) \\ } - x_{j}^{ \\ (k) \\ }\\right|}{R^{ \\ (k) \\ }}$ where $R^{ \\ (k) \\ }$ sets the scale and is the total range of the $k$-th variable. <br />\n",
    "<br />\n",
    "For categorical variables (suits):\n",
    "$d_{ij}=0$ if $x_i\\ = \\ x_j$ and 1 otherwise. \n"
   ]
  },
  {
   "cell_type": "code",
   "execution_count": 18,
   "metadata": {},
   "outputs": [
    {
     "data": {
      "text/html": [
       "<div>\n",
       "<style>\n",
       "    .dataframe thead tr:only-child th {\n",
       "        text-align: right;\n",
       "    }\n",
       "\n",
       "    .dataframe thead th {\n",
       "        text-align: left;\n",
       "    }\n",
       "\n",
       "    .dataframe tbody tr th {\n",
       "        vertical-align: top;\n",
       "    }\n",
       "</style>\n",
       "<table border=\"1\" class=\"dataframe\">\n",
       "  <thead>\n",
       "    <tr style=\"text-align: right;\">\n",
       "      <th></th>\n",
       "      <th>S1</th>\n",
       "      <th>C1</th>\n",
       "      <th>S2</th>\n",
       "      <th>C2</th>\n",
       "      <th>S3</th>\n",
       "      <th>C3</th>\n",
       "      <th>S4</th>\n",
       "      <th>C4</th>\n",
       "      <th>S5</th>\n",
       "      <th>C5</th>\n",
       "    </tr>\n",
       "  </thead>\n",
       "  <tbody>\n",
       "    <tr>\n",
       "      <th>0</th>\n",
       "      <td>1</td>\n",
       "      <td>1</td>\n",
       "      <td>1</td>\n",
       "      <td>13</td>\n",
       "      <td>2</td>\n",
       "      <td>4</td>\n",
       "      <td>2</td>\n",
       "      <td>3</td>\n",
       "      <td>1</td>\n",
       "      <td>12</td>\n",
       "    </tr>\n",
       "    <tr>\n",
       "      <th>1</th>\n",
       "      <td>3</td>\n",
       "      <td>12</td>\n",
       "      <td>3</td>\n",
       "      <td>2</td>\n",
       "      <td>3</td>\n",
       "      <td>11</td>\n",
       "      <td>4</td>\n",
       "      <td>5</td>\n",
       "      <td>2</td>\n",
       "      <td>5</td>\n",
       "    </tr>\n",
       "    <tr>\n",
       "      <th>2</th>\n",
       "      <td>1</td>\n",
       "      <td>9</td>\n",
       "      <td>4</td>\n",
       "      <td>6</td>\n",
       "      <td>1</td>\n",
       "      <td>4</td>\n",
       "      <td>3</td>\n",
       "      <td>2</td>\n",
       "      <td>3</td>\n",
       "      <td>9</td>\n",
       "    </tr>\n",
       "    <tr>\n",
       "      <th>3</th>\n",
       "      <td>1</td>\n",
       "      <td>4</td>\n",
       "      <td>3</td>\n",
       "      <td>13</td>\n",
       "      <td>2</td>\n",
       "      <td>13</td>\n",
       "      <td>2</td>\n",
       "      <td>1</td>\n",
       "      <td>3</td>\n",
       "      <td>6</td>\n",
       "    </tr>\n",
       "    <tr>\n",
       "      <th>4</th>\n",
       "      <td>3</td>\n",
       "      <td>10</td>\n",
       "      <td>2</td>\n",
       "      <td>7</td>\n",
       "      <td>1</td>\n",
       "      <td>2</td>\n",
       "      <td>2</td>\n",
       "      <td>11</td>\n",
       "      <td>4</td>\n",
       "      <td>9</td>\n",
       "    </tr>\n",
       "  </tbody>\n",
       "</table>\n",
       "</div>"
      ],
      "text/plain": [
       "   S1  C1  S2  C2  S3  C3  S4  C4  S5  C5\n",
       "0   1   1   1  13   2   4   2   3   1  12\n",
       "1   3  12   3   2   3  11   4   5   2   5\n",
       "2   1   9   4   6   1   4   3   2   3   9\n",
       "3   1   4   3  13   2  13   2   1   3   6\n",
       "4   3  10   2   7   1   2   2  11   4   9"
      ]
     },
     "execution_count": 18,
     "metadata": {},
     "output_type": "execute_result"
    }
   ],
   "source": [
    "#We create the dataset for this section \n",
    "x_train = df_train.copy() #Store a copy of the training set\n",
    "x_train = x_train.drop('CLASS', axis=1) #Remove the final colum \n",
    "x_train.head()"
   ]
  },
  {
   "cell_type": "code",
   "execution_count": 19,
   "metadata": {
    "collapsed": true
   },
   "outputs": [],
   "source": [
    "x_train = x_train.values #Transform into numpy array"
   ]
  },
  {
   "cell_type": "code",
   "execution_count": 20,
   "metadata": {
    "collapsed": true
   },
   "outputs": [],
   "source": [
    "#We define the Gower Distance function for the distance between two hands. \n",
    "#The range of the rank is 12.\n",
    "#We set the total weights to 90% for the rank distances and 10% for the sign distance. \n",
    "\n",
    "def hand_distance(hand1, hand2):\n",
    "    \n",
    "    assert (type(hand1) == np.ndarray),\"hand1 is not an numpy array\"\n",
    "    assert (type(hand2) == np.ndarray),\"hand2 is not an numpy array\"\n",
    "    \n",
    "    d = 0.0 \n",
    "    for i in range (5):\n",
    "        d += 0.02 * int(hand1[2*i] != hand2[2*i])\n",
    "        d += 0.18 * abs(hand1[2*i+1] - hand2[2*i+1])/12\n",
    "    \n",
    "    return d"
   ]
  },
  {
   "cell_type": "code",
   "execution_count": 21,
   "metadata": {},
   "outputs": [
    {
     "name": "stdout",
     "output_type": "stream",
     "text": [
      "[ 1  1  1 13  2  4  2  3  1 12]\n",
      "[ 3 12  3  2  3 11  4  5  2  5]\n",
      "The Gower Distance between the first two lines of the training set is: 0.67\n"
     ]
    }
   ],
   "source": [
    "#Example Gower Distance \n",
    "print(x_train[0])\n",
    "print(x_train [1])\n",
    "print('The Gower Distance between the first two lines of the training set is:',hand_distance(x_train[0],x_train[1]))"
   ]
  },
  {
   "cell_type": "markdown",
   "metadata": {},
   "source": [
    "**<span style=\"color:darkblue\">K-medoids and K-medians </span>**: Now that the distance is define, the second challenge of this section lies in choosing the algorithm to discover the rules. <br />"
   ]
  },
  {
   "cell_type": "markdown",
   "metadata": {},
   "source": [
    "**<span style=\"color:darkblue\">K-medoids: </span>**  Instead of calulating the mean of a cluster, one instead calculates the median.  The general methodology is outlined below:<br />\n",
    "1. Intialize k clusters with K++ <br />\n",
    "2. Associate each instance to its closest medoid <br />\n",
    "3. Within each cluser, while the total cost decreases (where cost is defined in terms of pairwise distances): <br />\n",
    "    a) For each medoid m and non-medoid o: <br />\n",
    "    i. Swap m and o, recompute the costs <br />\n",
    "    ii. If the total costs of the clustering increased, undo the swap. <br />\n",
    "<br />\n",
    "The medoid is thus defined as the point that minimizes the total within-cluster distances. Note that K-medoids guarantees that the cluster medoid is among the cluster members. The key drawback is that K-medoids will be computationally expensive, since it involves computation of all the pairwise distances in a cluster. Given our training set is very large, we will opt against using K-medoids for our initial analysis. We will however provide the code for the algorithm here for completeness as it will be used in the next section to help pre-process the data for the classification.\n",
    "<br />"
   ]
  },
  {
   "cell_type": "markdown",
   "metadata": {},
   "source": [
    "**<span style=\"color:darkblue\">K-medians: </span>** K medians methodology for cluster calculations: <br />\n",
    " <br />\n",
    "1. Intialize k clusters with with K++  <br />\n",
    "2. \n",
    "    a) Assign each observation to the a cluster corresponding to the \"nearest\" centroid using hand distance. <br />\n",
    "    b) Calculate the new medians to be the new centroids of the observations in the clusters. <br />\n",
    "    \n",
    "3. until convergence, i.e. until the new centroids are the same as the old centroids. <br />\n",
    " <br />\n",
    "Full paper: https://pdfs.semanticscholar.org/2e7f/4940ff6d2b4cd925a9dcc78ab4827e3dd8a9.pdf\n",
    " <br />\n",
    "We will use this algorithm for this section. "
   ]
  },
  {
   "cell_type": "markdown",
   "metadata": {},
   "source": [
    "**<span style=\"color:darkblue\">Initialization</span>**: The initalization mechanism will be performed using THE K++ algorithm. The curious reader can find the details in the paper here http://ilpubs.stanford.edu:8090/778/1/2006-13. The general methodology is outlined below. <br />\n",
    "<br />\n",
    "1. We choose first cluster medoid uniformly at random from among the data points\n",
    "2. Associate each instance to its closest medoid.\n",
    "3. a) For each data point, we compute the squared distance between the data point and the nearest existing medoid.\n",
    "    b) Then we choose one new data point at random as a new center using a weighted probability distribution. Each point is chosen with probability proportional to the squared distance.<br />\n",
    "4. We repeat the two steps in 2. until k centers have been chosen.<br />\n",
    "<br />"
   ]
  },
  {
   "cell_type": "code",
   "execution_count": 22,
   "metadata": {
    "collapsed": true
   },
   "outputs": [],
   "source": [
    "#We define the K++ using the Gower Distance\n",
    "\n",
    "def k_PP (data, k):\n",
    "      \n",
    "    assert (type(k) == int),\"k is not an integer\"\n",
    "    assert ( k > 0), \"k is not greater than 0\"\n",
    "    assert (type(data) == np.ndarray), \"data is not an numpy array\"\n",
    "    \n",
    "    #We choose the first medoid from the data\n",
    "    n_rows, n_cols = data.shape\n",
    "    medoids = []\n",
    "    medoids_id = np.random.randint(n_rows)\n",
    "    medoids.append(data[medoids_id])\n",
    "    \n",
    "    #We choose the remaining k-1 medoids from the data \n",
    "    while len(medoids) < k:\n",
    "        distance= np.array([min([hand_distance(medoids[i],data[j])**2 for i in range(len(medoids))]) for j in range (n_rows)])    \n",
    "        weighted_probs = distance/distance.sum()\n",
    "        cumulative_probs = weighted_probs.cumsum()\n",
    "        q = np.random.rand()\n",
    "        medoids_id = np.where(cumulative_probs >= q)[0][0]\n",
    "        medoids.append(data[medoids_id])        \n",
    "         \n",
    "    return medoids"
   ]
  },
  {
   "cell_type": "code",
   "execution_count": 23,
   "metadata": {
    "collapsed": true
   },
   "outputs": [],
   "source": [
    "def k_medians (data, k, max_iter=100):\n",
    "    \n",
    "    assert (type(k) == int),\"k is not an integer\"\n",
    "    assert ( k > 0), \"k is not greater than 0\"\n",
    "    assert (type(data) == np.ndarray), \"data is not an numpy array: %r\"\n",
    "    \n",
    "    \n",
    "    #Initial Centroid set\n",
    "    n_rows, n_cols = data.shape\n",
    "    centroids = k_PP(data,k)  \n",
    "    iteration = 1\n",
    "    \n",
    "    #Calculating New Centroids Until Convergence\n",
    "    while (iteration < max_iter):             \n",
    "        \n",
    "        iteration += 1\n",
    "        clusters = np.array([np.argmin([hand_distance(centroids[i],data[j]) for i in range(len(centroids))]) for j in range (n_rows)])\n",
    "        new_centroids = []\n",
    "        \n",
    "        for i in range(k):    \n",
    "            new_centroids.append(np.median(data[clusters == i],axis=0))\n",
    "            \n",
    "        if np.array_equal(new_centroids, centroids):\n",
    "            print(\"For\",k,\"clusters, convergence is achieved after\",iteration ,\"iterations.\")\n",
    "            break\n",
    "        \n",
    "        else: \n",
    "            centroids = new_centroids\n",
    "            \n",
    "    return centroids"
   ]
  },
  {
   "cell_type": "code",
   "execution_count": null,
   "metadata": {
    "collapsed": true
   },
   "outputs": [],
   "source": [
    "def k_medoids (data, k, max_iter=100):\n",
    "    \n",
    "    assert (type(k) == int),\"k is not an integer\"\n",
    "    assert ( k > 0), \"k is not greater than 0\"\n",
    "    assert (type(data) == np.ndarray), \"data is not an numpy array: %r\"\n",
    "    \n",
    "    #Initial Medoid set\n",
    "    n_rows, n_cols = data.shape\n",
    "    medoids = k_PP(data,k)  \n",
    "    iteration = 1\n",
    "    \n",
    "    \n",
    "    #Calculating New Medoids Until Convergence\n",
    "    while (iteration < max_iter):             \n",
    "        \n",
    "        iteration += 1\n",
    "        clusters = np.array([np.argmin([hand_distance(medoids[i],data[j])**2 for i in range(len(medoids))]) for j in range (n_rows)])\n",
    "        new_medoids = []\n",
    "        \n",
    "        for i in range(k):\n",
    "            memb_ids = np.where(clusters == i)\n",
    "            partition = data[memb_ids]\n",
    "            p_rows, p_cols = partition.shape\n",
    "            distance = np.array([np.sum([hand_distance(partition[i],partition[j])**2 for i in range(p_rows)]) for j in range (p_rows)])\n",
    "            min_distance = np.argmin(distance)\n",
    "            new_medoids.append(partition[min_distance])\n",
    "                                         \n",
    "        if np.array_equal(new_medoids, medoids):\n",
    "            print(\"For\",k,\"clusters, convergence is achieved after\",iteration ,\"iterations.\")\n",
    "            break\n",
    "        \n",
    "        else: \n",
    "            medoids = new_medoids\n",
    "            \n",
    "    return medoids"
   ]
  },
  {
   "cell_type": "markdown",
   "metadata": {},
   "source": [
    "We will now run the K-Medians algorithm on the dataset for different values of k and compute the inertia. This will give us an indication of the quality of the partition achieved and help select the natural number of clusters / classes. **Note: The cell below with take 5 minutes to run**: "
   ]
  },
  {
   "cell_type": "code",
   "execution_count": null,
   "metadata": {},
   "outputs": [
    {
     "name": "stdout",
     "output_type": "stream",
     "text": [
      "For 2 clusters, convergence is achieved after 4 iterations.\n",
      "For 3 clusters, convergence is achieved after 3 iterations.\n",
      "For 4 clusters, convergence is achieved after 5 iterations.\n",
      "For 5 clusters, convergence is achieved after 5 iterations.\n",
      "For 6 clusters, convergence is achieved after 5 iterations.\n"
     ]
    }
   ],
   "source": [
    "s_time = time.time()\n",
    "\n",
    "cluster_id = []\n",
    "total_inertia_list = []\n",
    "marginal_k = []\n",
    "rows, cols = x_train.shape\n",
    "\n",
    "for k in range(2,10):\n",
    "    \n",
    "    cluster_id.append(k)\n",
    "    medoids = k_medians(x_train,k)\n",
    "    inertia = np.array([min([hand_distance(medoids[i],x_train[j]) for i in range(len(medoids))]) for j in range (rows)])\n",
    "    total_inertia = inertia.sum() / rows\n",
    "    total_inertia_list.append(total_inertia)\n",
    "\n",
    "e_time = time.time()\n",
    "\n",
    "print('Elapsed time : ' + str(e_time-s_time))"
   ]
  },
  {
   "cell_type": "code",
   "execution_count": null,
   "metadata": {
    "collapsed": true
   },
   "outputs": [],
   "source": [
    "pd.DataFrame(list(zip(cluster_id,total_inertia_list)), columns = [\"Clusters\",\"Inertia\"])"
   ]
  },
  {
   "cell_type": "code",
   "execution_count": null,
   "metadata": {
    "collapsed": true
   },
   "outputs": [],
   "source": [
    "for k in range (1,8):\n",
    "    marginal_change = total_inertia_list[k-1]-total_inertia_list[k]\n",
    "    marginal_k.append(marginal_change)\n",
    "\n",
    "marginal_k"
   ]
  },
  {
   "cell_type": "code",
   "execution_count": null,
   "metadata": {
    "collapsed": true
   },
   "outputs": [],
   "source": [
    "plt.plot(cluster_id, total_inertia_list)\n",
    "plt.xlabel('Number of clusters')\n",
    "plt.ylabel('Inertia')\n",
    "plt.title('Selecting k with the Elbow Method')\n",
    "plt.show()"
   ]
  },
  {
   "cell_type": "markdown",
   "metadata": {},
   "source": [
    "**<span style=\"color:darkblue\">Conclusion</span>**: It is difficult for k-medians to detect the 9 classes of poker hands - indeed, using the elbow method, we can see that it points to an optimal clustering with k < 9. We can link this to the fact that the rules of poker are somewhat arbitrarily defined by the inventors of the game. Indeed, rare poker hands represent a small nuance in their attributes with regard to more common hands an thus partitions will simply group these together. \n",
    " "
   ]
  },
  {
   "cell_type": "markdown",
   "metadata": {},
   "source": [
    "### 4. Classification\n",
    "\n",
    "In the previous section, we tried to use clustering to discover the \"natural\" number of classes. Now we return to the the problem of supervised learning and we aim to train a classifier to predict the correct hand class. \n",
    "\n",
    "The main challenge of this section will be to implement a k-nearest neighbors algorithm, \"by hand\". We will start with the simple case where k = 1 .\n",
    "Our task is to estimate the class of a given hand, by looking at its nearest neighbors. The distance that will be used as already be defined above (see *hand_distance*). \n",
    "\n",
    "The curious reader can find more information on the k-nn algorithm here: https://medium.com/data-science-group-iitr/k-nearest-neighbors-knn-500f0d17c8f1\n",
    "\n",
    "\n"
   ]
  },
  {
   "cell_type": "markdown",
   "metadata": {},
   "source": [
    "Let's define the training set and the testing set for this section. \n",
    "- The training set will be df_train\n",
    "- The testing set should not be too big for time computation reasons. Moreover, we want it to contains a bit of each class."
   ]
  },
  {
   "cell_type": "code",
   "execution_count": null,
   "metadata": {
    "collapsed": true
   },
   "outputs": [],
   "source": [
    "def generate_test_df(data):\n",
    "    df_result = []\n",
    "    \n",
    "    for c in range(10):\n",
    "        test = data.copy()\n",
    "        test = test.loc[test['CLASS']==c]\n",
    "        if(len(test) > 10):\n",
    "            test = test.sample(n=10)\n",
    "        df_result.append(test)\n",
    "    return pd.concat(df_result)\n",
    "\n",
    "generate_test_df(df_test)"
   ]
  },
  {
   "cell_type": "code",
   "execution_count": null,
   "metadata": {
    "collapsed": true
   },
   "outputs": [],
   "source": [
    "np.random.seed(123) #We set the seed \n",
    "\n",
    "train = df_train.copy()\n",
    "test = generate_test_df(df_test)\n",
    "\n",
    "train.reset_index(drop = True, inplace = True)\n",
    "test.reset_index(drop = True, inplace = True)"
   ]
  },
  {
   "cell_type": "code",
   "execution_count": null,
   "metadata": {
    "collapsed": true
   },
   "outputs": [],
   "source": [
    "print(len(train), len(test))"
   ]
  },
  {
   "cell_type": "markdown",
   "metadata": {},
   "source": [
    "Implementation of the 1-NN algorithm:"
   ]
  },
  {
   "cell_type": "code",
   "execution_count": null,
   "metadata": {
    "collapsed": true
   },
   "outputs": [],
   "source": [
    "def oneNN(ref_array, new_hand):\n",
    "    assert (type(ref_array) == np.ndarray),\"ref_array is not an numpy ndarray\"\n",
    "    assert (type(new_hand) == np.ndarray),\"test_array is not an numpy ndarray\"\n",
    "    z = [] #the distances vector\n",
    "    ref_array_copy = ref_array.copy()\n",
    "    for row in ref_array_copy :\n",
    "        z.append(hand_distance(new_hand, row)) #we compute the distance from new_hand to each hand of the training set\n",
    "    df_result = pd.DataFrame(ref_array_copy, columns = [\"S1\", \"C1\", \"S2\", \"C2\", \"S3\", \"C3\", \"S4\", \"C4\", \"S5\", \"C5\", \"CLASS\"])\n",
    "    df_result['distance_to_new_hand'] = z\n",
    "    df_result = df_result.sort_values(by = 'distance_to_new_hand')\n",
    "    df_result.reset_index(drop = True, inplace = True)\n",
    "    print(df_result.head())\n",
    "    return(df_result.loc[0 , 'CLASS'])"
   ]
  },
  {
   "cell_type": "markdown",
   "metadata": {
    "collapsed": true
   },
   "source": [
    "Let's test this function, with the following inputs:\n",
    "- ref_array = train.values (the training set, converted into a np.ndarray)\n",
    "- new_hand = test.values[0] (the first line of the testing set, converted into a np.ndarray)"
   ]
  },
  {
   "cell_type": "code",
   "execution_count": null,
   "metadata": {
    "collapsed": true
   },
   "outputs": [],
   "source": [
    "new_hand = test.values[1]\n",
    "print(\"new_hand = \",new_hand)\n",
    "print(\"We can see that the new_hand is nothing (CLASS = 0)\")\n",
    "print(oneNN(train.values, new_hand))\n",
    "print(\"The predictied CLASS is 0\")"
   ]
  },
  {
   "cell_type": "markdown",
   "metadata": {},
   "source": [
    "Now that we have oneNN, we can try to implement kNN. The idea is that the class predicted is not anymore the class of the closest poker hand. It is a mix of the k closest hands' classes. "
   ]
  },
  {
   "cell_type": "markdown",
   "metadata": {},
   "source": [
    "First, we need to implement a function that will take the classes of the k nearest neighbors and will return the \"mean class\" of them. This notion of \"mean class\" is difficult to define since CLASS is a categorical variable. We tried to weight the classes of the k nearest neighbors by their distance to the new_hand, in order to give the most relevant class to new_hand."
   ]
  },
  {
   "cell_type": "code",
   "execution_count": null,
   "metadata": {
    "collapsed": true
   },
   "outputs": [],
   "source": [
    "def return_class(df, k):\n",
    "    if(df.loc[0, 'distance_to_new_hand'] == 0.0): #if the minimal distance to new_hand is 0, then we know new_hand's class for sure \n",
    "        return df.loc[0, 'CLASS']\n",
    "    else :\n",
    "        df_k = df[0:k].copy() #we take the k nearest neighbors\n",
    "        df_k = df_k.iloc[:, [10, 11]]\n",
    "        df_k['distance_to_new_hand'] = df['distance_to_new_hand'].apply(lambda x: 1/x) #weights\n",
    "        df_k = df_k.groupby('CLASS').sum()\n",
    "        df_result = df_k.sort_values(by = 'distance_to_new_hand', ascending=False)\n",
    "        return df_result.index[0]"
   ]
  },
  {
   "cell_type": "markdown",
   "metadata": {
    "collapsed": true
   },
   "source": [
    "Implementation of the k-NN algorithm:"
   ]
  },
  {
   "cell_type": "code",
   "execution_count": null,
   "metadata": {
    "collapsed": true
   },
   "outputs": [],
   "source": [
    "def kNN(ref_array, new_hand, k):\n",
    "    assert (type(ref_array) == np.ndarray),\"ref_array is not an numpy ndarray\"\n",
    "    assert (type(new_hand) == np.ndarray),\"test_array is not an numpy ndarray\"\n",
    "    assert (type(k) == int),\"k is not an integer\"\n",
    "    assert ( k > 0), \"k is not greater than 0\"\n",
    "    \n",
    "    z = [] #the distances vector\n",
    "    ref_array_copy = ref_array.copy()\n",
    "    for row in ref_array :\n",
    "        z.append(hand_distance(new_hand, row))\n",
    "    df_result = pd.DataFrame(ref_array_copy, columns = [\"S1\", \"C1\", \"S2\", \"C2\", \"S3\", \"C3\", \"S4\", \"C4\", \"S5\", \"C5\", \"CLASS\"])\n",
    "    df_result['distance_to_new_hand'] = z\n",
    "    df_result = df_result.sort_values(by = 'distance_to_new_hand')\n",
    "    df_result.reset_index(drop = True, inplace = True)\n",
    "    #print(df_result.head())\n",
    "    return(return_class(df_result, k))"
   ]
  },
  {
   "cell_type": "markdown",
   "metadata": {},
   "source": [
    "Our next step is to test our k-NN algorithm on a testing dataframe, and see if the class predicition is good or not. That is the aim of the following function."
   ]
  },
  {
   "cell_type": "code",
   "execution_count": null,
   "metadata": {
    "collapsed": true
   },
   "outputs": [],
   "source": [
    "def class_pred(df_train, df_test, k, lines = len(df_test)):\n",
    "    assert (type(df_train) == pd.core.frame.DataFrame),\"df_train is not an pd DataFrame\"\n",
    "    assert (type(df_test) == pd.core.frame.DataFrame),\"df_test is not an pd DataFrame\"\n",
    "    assert (type(k) == int),\"k is not an integer\"\n",
    "    assert ( k > 0), \"k is not greater than 0\"\n",
    "    \n",
    "    array_train = df_train.values\n",
    "    array_test = df_test[:lines].values\n",
    "    z = []\n",
    "    for row in array_test :\n",
    "        z.append(kNN(array_train, row, k))\n",
    "    df_result = pd.DataFrame(array_test, columns = [\"S1\", \"C1\", \"S2\", \"C2\", \"S3\", \"C3\", \"S4\", \"C4\", \"S5\", \"C5\", \"CLASS\"])\n",
    "    df_result['CLASS PRED'] = z\n",
    "    return df_result"
   ]
  },
  {
   "cell_type": "markdown",
   "metadata": {},
   "source": [
    "We test the class_prediction function with the following inputs:\n",
    "- df_train = train : **The training dataset defined in the beggining of this section**\n",
    "- df_test = test : **The testing dataset defined in the beggining of this section**\n",
    "- k = 3 : **A 3-NN will be used**\n",
    "- lines = 50 : **It only takes 50 lines of the df_train in order to go faster**"
   ]
  },
  {
   "cell_type": "code",
   "execution_count": null,
   "metadata": {
    "collapsed": true
   },
   "outputs": [],
   "source": [
    "table_of_prediction = class_pred(train, test, 3)\n",
    "print(test.head())\n",
    "print(table_of_prediction.head())"
   ]
  },
  {
   "cell_type": "markdown",
   "metadata": {},
   "source": [
    "### 5. Performance analysis\n",
    "In this section we will see if the class prediction (in the last column) is relevant"
   ]
  },
  {
   "cell_type": "markdown",
   "metadata": {},
   "source": [
    "#### 5.1. Global performance: the choice of k\n",
    "The following function compare the two last columns of the dataframe given by the class_pred function. \n",
    "> \"yes\" = the prediction is right\n",
    "\n",
    "> \"no\" = the prediction is wrong"
   ]
  },
  {
   "cell_type": "code",
   "execution_count": null,
   "metadata": {
    "collapsed": true
   },
   "outputs": [],
   "source": [
    "def performance_df(df_class_pred):\n",
    "    df_class_pred['RIGHT PRED'] = np.where(df_class_pred['CLASS'] == df_class_pred['CLASS PRED'] , 'yes', 'no')\n",
    "    return df_class_pred"
   ]
  },
  {
   "cell_type": "code",
   "execution_count": null,
   "metadata": {
    "collapsed": true
   },
   "outputs": [],
   "source": [
    "#Let's test the function on table_of_prediction (see above)\n",
    "pdf = performance_df(table_of_prediction)\n",
    "print(pdf.head())"
   ]
  },
  {
   "cell_type": "markdown",
   "metadata": {
    "collapsed": true
   },
   "source": [
    "The precision fonction gives the ratio\n",
    "$$\\frac{\\text{good predictions}}{\\text{total of predictions}}$$"
   ]
  },
  {
   "cell_type": "code",
   "execution_count": null,
   "metadata": {
    "collapsed": true
   },
   "outputs": [],
   "source": [
    "def precision(performance_df):\n",
    "    return performance_df.loc[:, 'RIGHT PRED'] .value_counts(normalize=True)[0]"
   ]
  },
  {
   "cell_type": "code",
   "execution_count": null,
   "metadata": {
    "collapsed": true
   },
   "outputs": [],
   "source": [
    "print(\"For this example, we have a precision rate of \"+ str(precision(pdf) * 100) +\" %\")"
   ]
  },
  {
   "cell_type": "markdown",
   "metadata": {},
   "source": [
    "In order to find the optimal k, we will try several values of k between 1 and 10"
   ]
  },
  {
   "cell_type": "code",
   "execution_count": null,
   "metadata": {
    "collapsed": true
   },
   "outputs": [],
   "source": [
    "X = range(1,10)\n",
    "Y = [] #this liste will stock the performances of the x-NN algorithms\n",
    "for x in X:\n",
    "    table_of_prediction = class_pred(train, test, x) #we use an x-NN algorithm here\n",
    "    pdf = performance_df(table_of_prediction)\n",
    "    p = precision(pdf)\n",
    "    print(\"Precision with the \" + str(x) + \"-NN method = \"+ str(p))\n",
    "    Y.append(p)\n",
    "    \n",
    "print(Y)"
   ]
  },
  {
   "cell_type": "markdown",
   "metadata": {},
   "source": [
    "Let's plot the precision evolution, when k varies"
   ]
  },
  {
   "cell_type": "code",
   "execution_count": null,
   "metadata": {
    "collapsed": true
   },
   "outputs": [],
   "source": [
    "max_index = Y.index(max(Y))\n",
    "\n",
    "bar_list = plt.bar(X, Y, width = 0.4, color = 'b')\n",
    "bar_list[max_index].set_color('r')\n",
    "plt.title(\"Histogram of the precision's evolution\")\n",
    "plt.xlabel(\"k value\")\n",
    "plt.ylabel(\"Precision\")\n",
    "plt.xticks(X)\n",
    "plt.ylim([0,1])\n",
    "\n",
    "plt.show()"
   ]
  },
  {
   "cell_type": "code",
   "execution_count": null,
   "metadata": {
    "collapsed": true
   },
   "outputs": [],
   "source": [
    "print(\"According to this graph, the best k is \"+str(max_index+1)+\". But it also seems that the choice of k is not that important, since we obtain close results for all k.\")  "
   ]
  },
  {
   "cell_type": "markdown",
   "metadata": {
    "collapsed": true
   },
   "source": [
    "#### 5.2. Class performance: is there a difference of precision between classes? "
   ]
  },
  {
   "cell_type": "markdown",
   "metadata": {
    "collapsed": true
   },
   "source": [
    "We noticed that some classes were poorly predicted by our classification algorithm. This can be explained by: \n",
    "- the fact that some classes are less represented that others in the training set (so less references when learning)\n",
    "- the fact that the distance we coded do not take into account the \"loop\" between a King and an As"
   ]
  },
  {
   "cell_type": "markdown",
   "metadata": {
    "collapsed": true
   },
   "source": [
    "### 6. Trying to improve our computational time"
   ]
  },
  {
   "cell_type": "markdown",
   "metadata": {
    "collapsed": true,
    "scrolled": true
   },
   "source": [
    "We mentioned that we would use k-medoids as a preliminary step for our predicition in the previous section. Our approach consists of separating the data according to class labels and applying k-medoids to every class separately. At the end, we acquire a set of k prototypes for each class. This prototype is associated with a class because the prototypes are created by clustering each class of data individually. Now when we have a new data point, we put all of the prototypes together and find which one is closest to the new data point. The class of this prototype is taken as the class of the new data point. <br/>\n",
    "<br/>\n",
    "Here is a review of the basic steps involved:\n",
    "<br/>\n",
    "1. Apply k-medoids clustering to the training data in each class separately, using R prototypes per class.\n",
    "2. Assign a class label to each of the K × R prototypes.\n",
    "3. Classify a new feature vector to the class of the closest prototype.medoids_df = generate_medoids_df(train ,5)"
   ]
  },
  {
   "cell_type": "code",
   "execution_count": null,
   "metadata": {
    "collapsed": true
   },
   "outputs": [],
   "source": [
    "def generate_medoids_df(data_train,k):\n",
    "    s_time = time.time()\n",
    "    cl = [] \n",
    "    total_medoids = []\n",
    "    \n",
    "    for c in range(10):\n",
    "        #Select lines with class c\n",
    "        train = data_train.copy()\n",
    "        train = train.loc[train['CLASS']==c]\n",
    "        if train.shape[0] > 500:\n",
    "            train = train.sample(n=500) #if to many lines of class c, only take 500 of them, to save time\n",
    "            \n",
    "        train = train.drop('CLASS',axis=1)\n",
    "        train.reset_index(drop = True, inplace = True)\n",
    "        train = train.values\n",
    "        medoids = k_medoids(train,k)\n",
    "        x = np.repeat(c,k,axis=0)\n",
    "        cl.append(x) #the class column\n",
    "        total_medoids.append(medoids)\n",
    "    \n",
    "    labels = ['S1', 'C1', 'S2', 'C2', 'S3', 'C3','S4', 'C4', 'S5', 'C5']\n",
    "    \n",
    "    medoids_df = pd.DataFrame(data = np.concatenate(total_medoids), columns = labels)\n",
    "    medoids_df['CLASS']= pd.Series(np.concatenate(cl))\n",
    "    \n",
    "    e_time = time.time()    \n",
    "    print('Elapsed time : ' + str(e_time-s_time))\n",
    "    \n",
    "    return medoids_df"
   ]
  },
  {
   "cell_type": "code",
   "execution_count": null,
   "metadata": {
    "collapsed": true
   },
   "outputs": [],
   "source": [
    "medoids_df = generate_medoids_df(train ,5)\n",
    "medoids_df"
   ]
  },
  {
   "cell_type": "markdown",
   "metadata": {},
   "source": [
    "For a given class, one can find in this dataframe the 5 most representative hands of that specific class. \n",
    "Now let's test the prediction rate of that new method on a small dataframe (*test*)"
   ]
  },
  {
   "cell_type": "code",
   "execution_count": null,
   "metadata": {
    "collapsed": true
   },
   "outputs": [],
   "source": [
    "a = class_pred(medoids_df,test,7)\n",
    "b = performance_df(a)\n",
    "print(\"For this example, we have a precision rate of \"+ str(precision(b) * 100) +\" %\")"
   ]
  },
  {
   "cell_type": "markdown",
   "metadata": {},
   "source": [
    "This is algorithm is much faster, and has a satifying precision rate."
   ]
  },
  {
   "cell_type": "code",
   "execution_count": 22,
   "metadata": {
    "collapsed": true
   },
   "outputs": [],
   "source": [
    "#We define the K++ using the Gower Distance\n",
    "\n",
    "def k_PP (data, k):\n",
    "      \n",
    "    assert (type(k) == int),\"k is not an integer\"\n",
    "    assert ( k > 0), \"k is not greater than 0\"\n",
    "    assert (type(data) == np.ndarray), \"data is not an numpy array\"\n",
    "    \n",
    "    #We choose the first medoid from the data\n",
    "    n_rows, n_cols = data.shape\n",
    "    medoids = []\n",
    "    medoids_id = np.random.randint(n_rows)\n",
    "    medoids.append(data[medoids_id])\n",
    "    \n",
    "    #We choose the remaining k-1 medoids from the data \n",
    "    while len(medoids) < k:\n",
    "        distance= np.array([min([hand_distance(medoids[i],data[j])**2 for i in range(len(medoids))]) for j in range (n_rows)])    \n",
    "        weighted_probs = distance/distance.sum()\n",
    "        cumulative_probs = weighted_probs.cumsum()\n",
    "        q = np.random.rand()\n",
    "        medoids_id = np.where(cumulative_probs >= q)[0][0]\n",
    "        medoids.append(data[medoids_id])        \n",
    "         \n",
    "    return medoids"
   ]
  },
  {
   "cell_type": "code",
   "execution_count": 37,
   "metadata": {},
   "outputs": [
    {
     "data": {
      "text/plain": [
       "array([ 0.207025,  0.105625,  0.0729  , ...,  0.112225,  0.207025,\n",
       "        0.099225])"
      ]
     },
     "execution_count": 37,
     "metadata": {},
     "output_type": "execute_result"
    }
   ],
   "source": [
    "rows, cols = x_train.shape\n",
    "med = []\n",
    "med_id = np.random.randint(rows)\n",
    "med_id\n",
    "med.append(x_train[med_id])\n",
    "med\n",
    "distance= np.array([min([hand_distance(med[i],x_train[j])**2 for i in range(len(med))]) for j in range (rows)])    "
   ]
  },
  {
   "cell_type": "code",
   "execution_count": 55,
   "metadata": {},
   "outputs": [
    {
     "data": {
      "text/plain": [
       "696548"
      ]
     },
     "execution_count": 55,
     "metadata": {},
     "output_type": "execute_result"
    }
   ],
   "source": [
    "np.random.seed(123)\n",
    "weighted_probs = distance/distance.sum()\n",
    "medoids_id = np.where(cumulative_probs >= np.random.rand())\n",
    "medoids_id[0][0]"
   ]
  },
  {
   "cell_type": "code",
   "execution_count": null,
   "metadata": {
    "collapsed": true
   },
   "outputs": [],
   "source": []
  }
 ],
 "metadata": {
  "kernelspec": {
   "display_name": "Python 3",
   "language": "python",
   "name": "python3"
  },
  "language_info": {
   "codemirror_mode": {
    "name": "ipython",
    "version": 3
   },
   "file_extension": ".py",
   "mimetype": "text/x-python",
   "name": "python",
   "nbconvert_exporter": "python",
   "pygments_lexer": "ipython3",
   "version": "3.6.2"
  }
 },
 "nbformat": 4,
 "nbformat_minor": 2
}
